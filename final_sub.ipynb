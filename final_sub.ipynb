{
 "cells": [
  {
   "cell_type": "code",
   "execution_count": 1,
   "id": "9a43b8bc",
   "metadata": {
    "_cell_guid": "b1076dfc-b9ad-4769-8c92-a6c4dae69d19",
    "_uuid": "8f2839f25d086af736a60e9eeb907d3b93b6e0e5",
    "execution": {
     "iopub.execute_input": "2022-09-30T16:57:14.386528Z",
     "iopub.status.busy": "2022-09-30T16:57:14.386015Z",
     "iopub.status.idle": "2022-09-30T16:57:16.931926Z",
     "shell.execute_reply": "2022-09-30T16:57:16.930262Z"
    },
    "papermill": {
     "duration": 2.555753,
     "end_time": "2022-09-30T16:57:16.934919",
     "exception": false,
     "start_time": "2022-09-30T16:57:14.379166",
     "status": "completed"
    },
    "tags": []
   },
   "outputs": [],
   "source": [
    "# import standard libraries\n",
    "import numpy as np \n",
    "import pandas as pd \n",
    "import seaborn as sns\n",
    "import matplotlib.pyplot as plt\n",
    "from datetime import datetime\n",
    "\n",
    "# import models and metrics\n",
    "from sklearn.model_selection import train_test_split, GroupKFold\n",
    "from sklearn.linear_model import Ridge\n",
    "from sklearn.preprocessing import StandardScaler, MinMaxScaler, RobustScaler\n",
    "from sklearn.pipeline import make_pipeline\n",
    "from sklearn.compose import TransformedTargetRegressor\n",
    "from catboost import CatBoostRegressor\n",
    "from sklearn.metrics import mean_squared_error\n",
    "import optuna"
   ]
  },
  {
   "cell_type": "code",
   "execution_count": 2,
   "id": "ec1ccaaa",
   "metadata": {
    "execution": {
     "iopub.execute_input": "2022-09-30T16:57:16.946562Z",
     "iopub.status.busy": "2022-09-30T16:57:16.945260Z",
     "iopub.status.idle": "2022-09-30T16:57:17.204176Z",
     "shell.execute_reply": "2022-09-30T16:57:17.202813Z"
    },
    "papermill": {
     "duration": 0.267057,
     "end_time": "2022-09-30T16:57:17.206666",
     "exception": false,
     "start_time": "2022-09-30T16:57:16.939609",
     "status": "completed"
    },
    "tags": []
   },
   "outputs": [],
   "source": [
    "# read data from '.csv' files\n",
    "train = pd.read_csv('/kaggle/input/tabular-playground-series-sep-2022/train.csv', parse_dates=['date'])\n",
    "test = pd.read_csv('/kaggle/input/tabular-playground-series-sep-2022/test.csv', parse_dates=['date'])\n",
    "\n",
    "for df in [train, test]:\n",
    "    df['product'] = df['product'].str.replace(' ', '_')\n",
    "    df['product'] = df['product'].str.replace(':', '_')\n",
    "\n",
    "original_train = train\n",
    "original_test = test"
   ]
  },
  {
   "cell_type": "code",
   "execution_count": 3,
   "id": "dbade3c2",
   "metadata": {
    "execution": {
     "iopub.execute_input": "2022-09-30T16:57:17.217494Z",
     "iopub.status.busy": "2022-09-30T16:57:17.217045Z",
     "iopub.status.idle": "2022-09-30T16:57:17.241815Z",
     "shell.execute_reply": "2022-09-30T16:57:17.240453Z"
    },
    "papermill": {
     "duration": 0.03328,
     "end_time": "2022-09-30T16:57:17.244472",
     "exception": false,
     "start_time": "2022-09-30T16:57:17.211192",
     "status": "completed"
    },
    "tags": []
   },
   "outputs": [],
   "source": [
    "train_sum = train.groupby(['date'])['num_sold'].sum().reset_index()\n",
    "train = train_sum.copy()\n",
    "# remove marth-april-2020 days from data\n",
    "outlier = train.loc[((train['date'] >= '2020-03-01') & (train['date'] < '2020-06-01'))]\n",
    "train = train.loc[~((train['date'] >= '2020-03-01') & (train['date'] < '2020-06-01'))]\n",
    "#get the dates to forecast for\n",
    "test_sum = test.groupby(['date'])['row_id'].first().reset_index().drop(columns='row_id')\n",
    "test = test_sum.copy()\n",
    "#keep dates for later\n",
    "test_dates = test[['date']]"
   ]
  },
  {
   "cell_type": "code",
   "execution_count": 4,
   "id": "81357a0a",
   "metadata": {
    "execution": {
     "iopub.execute_input": "2022-09-30T16:57:17.255937Z",
     "iopub.status.busy": "2022-09-30T16:57:17.255525Z",
     "iopub.status.idle": "2022-09-30T16:57:17.677849Z",
     "shell.execute_reply": "2022-09-30T16:57:17.676750Z"
    },
    "papermill": {
     "duration": 0.430491,
     "end_time": "2022-09-30T16:57:17.680115",
     "exception": false,
     "start_time": "2022-09-30T16:57:17.249624",
     "status": "completed"
    },
    "tags": []
   },
   "outputs": [],
   "source": [
    "def feature_engineer(df, outlier_fe = True):\n",
    "    new_df = df.copy()\n",
    "    new_df['month'] = df['date'].dt.month\n",
    "    new_df['month_sin'] = np.sin(new_df['month'] * (2 * np.pi / 12))\n",
    "    new_df['month_cos'] = np.cos(new_df['month'] * (2 * np.pi / 12))\n",
    "    \n",
    "    new_df['is_month_start'] = df['date'].apply(lambda x: x.is_month_start).astype(np.int8)\n",
    "    new_df['is_month_end'] = df['date'].apply(lambda x: x.is_month_end).astype(np.int8)\n",
    "    \n",
    "    new_df['day_of_week'] = df['date'].dt.dayofweek\n",
    "    \n",
    "    new_df['day_of_year'] = df['date'].dt.dayofyear\n",
    "    new_df['day_of_year'] = new_df.apply(lambda x: x['day_of_year']-1 if (x['date'] > pd.Timestamp('2020-02-29') and x['date'] < pd.Timestamp('2021-01-01'))  else x['day_of_year'], axis=1)\n",
    "    \n",
    "    if outlier_fe:\n",
    "        new_df['important_dates'] = new_df['day_of_year'].apply(lambda x: x if x in [124, 125, 126, 127, 140, 141,] else 0)\n",
    "    else:\n",
    "        new_df['important_dates'] = new_df['day_of_year'].apply(lambda x: x if x in [\n",
    "                                                                                    1, 2, 3, 4, 5, 6, 7, 8, 9, 10, 11, 12, \n",
    "                                                                                   124, 125, 126, 127, 140, 141, \n",
    "                                                                                   167, 168, 169, \n",
    "                                                                                   170, 171, 173, 174, 175, 176, 177, 178, 179, \n",
    "                                                                                   180, 181, \n",
    "                                                                                   203, 230, 231, 232, 233, 234, 282, 289, \n",
    "                                                                                   290, 307, 308, 309, 310, 311, 312, 313, 317, 318, 319, \n",
    "                                                                                   320, 360, 361, 362, 363, 364, 365\n",
    "                                                                                ] else 0)\n",
    "    \n",
    "    new_df['year'] = df['date'].dt.year\n",
    "    new_df['day'] = df['date'].dt.day\n",
    "    \n",
    "    import dateutil.easter as easter\n",
    "    easter_date = new_df.date.apply(lambda date: pd.Timestamp(easter.easter(date.year)))\n",
    "    for day in list(range(-5, 5)) + list(range(30, 50)):\n",
    "        new_df[f'easter_{day}'] = (new_df.date - easter_date).dt.days.eq(day)\n",
    "    \n",
    "    for col in new_df.columns :\n",
    "        if 'easter' in col :\n",
    "            new_df = pd.get_dummies(new_df, columns = [col], drop_first=True)\n",
    "    \n",
    "    new_df = new_df.drop(columns=['date','month'])\n",
    "    \n",
    "    new_df = pd.get_dummies(new_df, columns = ['important_dates','day_of_week', 'day'])\n",
    "    \n",
    "    return new_df\n",
    "\n",
    "outlier_fe = True\n",
    "train = feature_engineer(train, outlier_fe)\n",
    "test = feature_engineer(test, outlier_fe)\n",
    "outlier = feature_engineer(outlier, outlier_fe)"
   ]
  },
  {
   "cell_type": "code",
   "execution_count": 5,
   "id": "9e38824e",
   "metadata": {
    "execution": {
     "iopub.execute_input": "2022-09-30T16:57:17.690866Z",
     "iopub.status.busy": "2022-09-30T16:57:17.690440Z",
     "iopub.status.idle": "2022-09-30T16:57:17.698356Z",
     "shell.execute_reply": "2022-09-30T16:57:17.697472Z"
    },
    "papermill": {
     "duration": 0.015957,
     "end_time": "2022-09-30T16:57:17.700626",
     "exception": false,
     "start_time": "2022-09-30T16:57:17.684669",
     "status": "completed"
    },
    "tags": []
   },
   "outputs": [],
   "source": [
    "y = train['num_sold']\n",
    "X = train.drop(columns='num_sold')\n",
    "X_Test = outlier.drop(columns='num_sold')"
   ]
  },
  {
   "cell_type": "code",
   "execution_count": 6,
   "id": "8dd08c8e",
   "metadata": {
    "execution": {
     "iopub.execute_input": "2022-09-30T16:57:17.711364Z",
     "iopub.status.busy": "2022-09-30T16:57:17.710905Z",
     "iopub.status.idle": "2022-09-30T16:57:17.724874Z",
     "shell.execute_reply": "2022-09-30T16:57:17.723714Z"
    },
    "papermill": {
     "duration": 0.02223,
     "end_time": "2022-09-30T16:57:17.727470",
     "exception": false,
     "start_time": "2022-09-30T16:57:17.705240",
     "status": "completed"
    },
    "tags": []
   },
   "outputs": [],
   "source": [
    "sc = StandardScaler()\n",
    "sc.fit(X)\n",
    "X = sc.transform(X)\n",
    "X_Test = sc.transform(X_Test)"
   ]
  },
  {
   "cell_type": "code",
   "execution_count": 7,
   "id": "c83e03fa",
   "metadata": {
    "execution": {
     "iopub.execute_input": "2022-09-30T16:57:17.737832Z",
     "iopub.status.busy": "2022-09-30T16:57:17.737466Z",
     "iopub.status.idle": "2022-09-30T16:57:17.784808Z",
     "shell.execute_reply": "2022-09-30T16:57:17.783513Z"
    },
    "papermill": {
     "duration": 0.055545,
     "end_time": "2022-09-30T16:57:17.787500",
     "exception": false,
     "start_time": "2022-09-30T16:57:17.731955",
     "status": "completed"
    },
    "tags": []
   },
   "outputs": [],
   "source": [
    "from sklearn.compose import TransformedTargetRegressor\n",
    "model = TransformedTargetRegressor(\n",
    "                                   regressor = Ridge(alpha=0.2, tol=0.00001, max_iter=100000), \n",
    "                                   func=np.log, inverse_func=np.exp\n",
    "                                   )\n",
    "model.fit(X, y)\n",
    "pred = model.predict(X_Test)"
   ]
  },
  {
   "cell_type": "code",
   "execution_count": 8,
   "id": "9e80c065",
   "metadata": {
    "execution": {
     "iopub.execute_input": "2022-09-30T16:57:17.802446Z",
     "iopub.status.busy": "2022-09-30T16:57:17.801528Z",
     "iopub.status.idle": "2022-09-30T16:57:17.809862Z",
     "shell.execute_reply": "2022-09-30T16:57:17.808764Z"
    },
    "papermill": {
     "duration": 0.018689,
     "end_time": "2022-09-30T16:57:17.812164",
     "exception": false,
     "start_time": "2022-09-30T16:57:17.793475",
     "status": "completed"
    },
    "tags": []
   },
   "outputs": [],
   "source": [
    "train_sum.loc[((train_sum['date'] >= '2020-03-01') & (train_sum['date'] < '2020-06-01')), 'num_sold'] = pred"
   ]
  },
  {
   "cell_type": "code",
   "execution_count": 9,
   "id": "c9c22a52",
   "metadata": {
    "execution": {
     "iopub.execute_input": "2022-09-30T16:57:17.832032Z",
     "iopub.status.busy": "2022-09-30T16:57:17.831102Z",
     "iopub.status.idle": "2022-09-30T16:57:17.836005Z",
     "shell.execute_reply": "2022-09-30T16:57:17.834879Z"
    },
    "papermill": {
     "duration": 0.02191,
     "end_time": "2022-09-30T16:57:17.839946",
     "exception": false,
     "start_time": "2022-09-30T16:57:17.818036",
     "status": "completed"
    },
    "tags": []
   },
   "outputs": [],
   "source": [
    "# f,ax = plt.subplots(figsize=(20,10))\n",
    "# sns.lineplot(data = train_sum, x='date', y='num_sold');"
   ]
  },
  {
   "cell_type": "code",
   "execution_count": 10,
   "id": "877ea52e",
   "metadata": {
    "execution": {
     "iopub.execute_input": "2022-09-30T16:57:17.867166Z",
     "iopub.status.busy": "2022-09-30T16:57:17.866746Z",
     "iopub.status.idle": "2022-09-30T16:57:18.170162Z",
     "shell.execute_reply": "2022-09-30T16:57:18.169268Z"
    },
    "papermill": {
     "duration": 0.320039,
     "end_time": "2022-09-30T16:57:18.172868",
     "exception": false,
     "start_time": "2022-09-30T16:57:17.852829",
     "status": "completed"
    },
    "tags": []
   },
   "outputs": [],
   "source": [
    "outlier_fe = False\n",
    "train = feature_engineer(train_sum, outlier_fe)\n",
    "test = feature_engineer(test_sum, outlier_fe)"
   ]
  },
  {
   "cell_type": "code",
   "execution_count": 11,
   "id": "a9b1653d",
   "metadata": {
    "execution": {
     "iopub.execute_input": "2022-09-30T16:57:18.183463Z",
     "iopub.status.busy": "2022-09-30T16:57:18.183064Z",
     "iopub.status.idle": "2022-09-30T16:57:18.190029Z",
     "shell.execute_reply": "2022-09-30T16:57:18.188896Z"
    },
    "papermill": {
     "duration": 0.014767,
     "end_time": "2022-09-30T16:57:18.192125",
     "exception": false,
     "start_time": "2022-09-30T16:57:18.177358",
     "status": "completed"
    },
    "tags": []
   },
   "outputs": [],
   "source": [
    "y = train['num_sold']\n",
    "X = train.drop(columns='num_sold')\n",
    "X_Test = test"
   ]
  },
  {
   "cell_type": "code",
   "execution_count": 12,
   "id": "35daedbc",
   "metadata": {
    "execution": {
     "iopub.execute_input": "2022-09-30T16:57:18.203646Z",
     "iopub.status.busy": "2022-09-30T16:57:18.202304Z",
     "iopub.status.idle": "2022-09-30T16:57:18.391881Z",
     "shell.execute_reply": "2022-09-30T16:57:18.390918Z"
    },
    "papermill": {
     "duration": 0.197783,
     "end_time": "2022-09-30T16:57:18.394427",
     "exception": false,
     "start_time": "2022-09-30T16:57:18.196644",
     "status": "completed"
    },
    "tags": []
   },
   "outputs": [
    {
     "name": "stdout",
     "output_type": "stream",
     "text": [
      "0 [2017 2018 2019] [2020] -0.5460784812957906\n",
      "1 [2017 2018 2020] [2019] -0.24517552130909048\n",
      "2 [2017 2019 2020] [2018] 0.7487230661921057\n",
      "3 [2018 2019 2020] [2017] 0.8936907819852213\n",
      "Mean score 0.2127899613931115\n"
     ]
    }
   ],
   "source": [
    "preds_lst = []\n",
    "kf = GroupKFold(n_splits=4)\n",
    "scores = []\n",
    "for fold, (train_idx, val_idx) in enumerate(kf.split(X, groups=X.year)):\n",
    "    model = TransformedTargetRegressor(\n",
    "                                       regressor=Ridge(alpha=0.2, tol=0.00001, max_iter=100000), \n",
    "                                       func=np.log, inverse_func=np.exp\n",
    "                                       )\n",
    "    model = make_pipeline(MinMaxScaler(), model)\n",
    "    model.fit(X.iloc[train_idx], y.iloc[train_idx])\n",
    "    preds_lst.append(model.predict(X_Test))\n",
    "    sc =  model.score(X.iloc[val_idx], y.iloc[val_idx])\n",
    "    scores.append(sc)\n",
    "    print(fold, X.iloc[train_idx]['year'].unique(),  X.iloc[val_idx]['year'].unique(), sc)\n",
    "\n",
    "print('Mean score', np.mean(scores))\n",
    "preds_df = pd.DataFrame(np.column_stack(preds_lst))\n",
    "preds_df['num_sold'] = preds_df.sum(axis = 1)/len(preds_lst)\n",
    "test_dates['num_sold'] = preds_df['num_sold']"
   ]
  },
  {
   "cell_type": "code",
   "execution_count": 13,
   "id": "08370ea8",
   "metadata": {
    "execution": {
     "iopub.execute_input": "2022-09-30T16:57:18.410038Z",
     "iopub.status.busy": "2022-09-30T16:57:18.409392Z",
     "iopub.status.idle": "2022-09-30T16:57:22.524829Z",
     "shell.execute_reply": "2022-09-30T16:57:22.523342Z"
    },
    "papermill": {
     "duration": 4.126442,
     "end_time": "2022-09-30T16:57:22.527397",
     "exception": false,
     "start_time": "2022-09-30T16:57:18.400955",
     "status": "completed"
    },
    "tags": []
   },
   "outputs": [],
   "source": [
    "product_df = original_train.groupby(['date','product'])['num_sold'].sum().reset_index()\n",
    "product_ratio_df = product_df.pivot(index='date', columns='product', values='num_sold')\n",
    "product_ratio_df = product_ratio_df.apply(lambda x: x/x.sum(),axis=1)\n",
    "product_ratio_df = product_ratio_df.stack().rename('ratios').reset_index()\n",
    "\n",
    "# make prediction to ratio in 2021\n",
    "X = product_ratio_df[product_ratio_df['date'] < '2020-01-01']\n",
    "y = X['ratios']\n",
    "X_Test = original_test.groupby(['date','product']).sum().reset_index().drop(columns='row_id')\n",
    "X_Test_original = X_Test\n",
    "X = X.drop(columns='ratios')\n",
    "X = pd.get_dummies(X, columns = ['product'])\n",
    "X_Test = pd.get_dummies(X_Test, columns = ['product'])\n",
    "X = feature_engineer(X)\n",
    "X_Test = feature_engineer(X_Test)\n",
    "\n",
    "model = CatBoostRegressor(eval_metric= 'MAPE',\n",
    "                          n_estimators= 799, \n",
    "                          learning_rate= 0.02, \n",
    "                          depth= 9, \n",
    "                          min_child_samples= 34, \n",
    "                          l2_leaf_reg= 1.5, \n",
    "                          logging_level='Silent')\n",
    "model = make_pipeline(RobustScaler(), model)\n",
    "model.fit(X,y)\n",
    "pred = model.predict(X_Test)\n",
    "\n",
    "product_ratio = X_Test_original\n",
    "product_ratio['ratios'] = pred\n",
    "product_ratio['mm-dd'] = product_ratio['date'].dt.strftime('%m-%d')\n",
    "product_ratio = product_ratio.drop(columns='date')\n",
    "\n",
    "test_product_ratio_df = original_test.copy()\n",
    "test_product_ratio_df['mm-dd'] = test_product_ratio_df['date'].dt.strftime('%m-%d')\n",
    "test_product_ratio_df = pd.merge(test_product_ratio_df,product_ratio, how='left', on = ['mm-dd','product'])\n",
    "\n",
    "test_sub = pd.merge(original_test, test_dates, how='left')\n",
    "test_sub['ratios'] = test_product_ratio_df['ratios']"
   ]
  },
  {
   "cell_type": "code",
   "execution_count": 14,
   "id": "10e18640",
   "metadata": {
    "execution": {
     "iopub.execute_input": "2022-09-30T16:57:22.537777Z",
     "iopub.status.busy": "2022-09-30T16:57:22.537407Z",
     "iopub.status.idle": "2022-09-30T16:57:22.587261Z",
     "shell.execute_reply": "2022-09-30T16:57:22.585956Z"
    },
    "papermill": {
     "duration": 0.058074,
     "end_time": "2022-09-30T16:57:22.589962",
     "exception": false,
     "start_time": "2022-09-30T16:57:22.531888",
     "status": "completed"
    },
    "tags": []
   },
   "outputs": [],
   "source": [
    "def disaggregate_forecast(df):\n",
    "    new_df = df.copy()\n",
    "    \n",
    "    store_weights = original_train.groupby('store')['num_sold'].sum()/original_train['num_sold'].sum()\n",
    "    country_weights = pd.Series(index = test_sub['country'].unique(),data = 1/6)\n",
    "\n",
    "    for country in country_weights.index:\n",
    "        new_df.loc[(new_df['country'] == country), 'num_sold'] = new_df.loc[(new_df['country'] == country), 'num_sold'] *  country_weights[country]\n",
    "        \n",
    "    for store in store_weights.index:\n",
    "        new_df.loc[new_df['store'] == store, 'num_sold'] = new_df.loc[new_df['store'] == store, 'num_sold'] * store_weights[store]\n",
    "    \n",
    "    new_df['num_sold'] = new_df['num_sold'] * new_df['ratios']\n",
    "    new_df['num_sold'] = new_df['num_sold'].round()\n",
    "    new_df = new_df.drop(columns=['ratios'])\n",
    "    \n",
    "    return new_df\n",
    "\n",
    "final_df = disaggregate_forecast(test_sub)"
   ]
  },
  {
   "cell_type": "code",
   "execution_count": 15,
   "id": "b6339ec8",
   "metadata": {
    "execution": {
     "iopub.execute_input": "2022-09-30T16:57:22.601373Z",
     "iopub.status.busy": "2022-09-30T16:57:22.600071Z",
     "iopub.status.idle": "2022-09-30T16:57:22.659896Z",
     "shell.execute_reply": "2022-09-30T16:57:22.658579Z"
    },
    "papermill": {
     "duration": 0.068492,
     "end_time": "2022-09-30T16:57:22.662998",
     "exception": false,
     "start_time": "2022-09-30T16:57:22.594506",
     "status": "completed"
    },
    "tags": []
   },
   "outputs": [
    {
     "data": {
      "text/html": [
       "<div>\n",
       "<style scoped>\n",
       "    .dataframe tbody tr th:only-of-type {\n",
       "        vertical-align: middle;\n",
       "    }\n",
       "\n",
       "    .dataframe tbody tr th {\n",
       "        vertical-align: top;\n",
       "    }\n",
       "\n",
       "    .dataframe thead th {\n",
       "        text-align: right;\n",
       "    }\n",
       "</style>\n",
       "<table border=\"1\" class=\"dataframe\">\n",
       "  <thead>\n",
       "    <tr style=\"text-align: right;\">\n",
       "      <th></th>\n",
       "      <th>row_id</th>\n",
       "      <th>num_sold</th>\n",
       "    </tr>\n",
       "  </thead>\n",
       "  <tbody>\n",
       "    <tr>\n",
       "      <th>0</th>\n",
       "      <td>70128</td>\n",
       "      <td>513.0</td>\n",
       "    </tr>\n",
       "    <tr>\n",
       "      <th>1</th>\n",
       "      <td>70129</td>\n",
       "      <td>411.0</td>\n",
       "    </tr>\n",
       "    <tr>\n",
       "      <th>2</th>\n",
       "      <td>70130</td>\n",
       "      <td>343.0</td>\n",
       "    </tr>\n",
       "    <tr>\n",
       "      <th>3</th>\n",
       "      <td>70131</td>\n",
       "      <td>542.0</td>\n",
       "    </tr>\n",
       "    <tr>\n",
       "      <th>4</th>\n",
       "      <td>70132</td>\n",
       "      <td>178.0</td>\n",
       "    </tr>\n",
       "    <tr>\n",
       "      <th>...</th>\n",
       "      <td>...</td>\n",
       "      <td>...</td>\n",
       "    </tr>\n",
       "    <tr>\n",
       "      <th>17515</th>\n",
       "      <td>87643</td>\n",
       "      <td>657.0</td>\n",
       "    </tr>\n",
       "    <tr>\n",
       "      <th>17516</th>\n",
       "      <td>87644</td>\n",
       "      <td>208.0</td>\n",
       "    </tr>\n",
       "    <tr>\n",
       "      <th>17517</th>\n",
       "      <td>87645</td>\n",
       "      <td>170.0</td>\n",
       "    </tr>\n",
       "    <tr>\n",
       "      <th>17518</th>\n",
       "      <td>87646</td>\n",
       "      <td>142.0</td>\n",
       "    </tr>\n",
       "    <tr>\n",
       "      <th>17519</th>\n",
       "      <td>87647</td>\n",
       "      <td>228.0</td>\n",
       "    </tr>\n",
       "  </tbody>\n",
       "</table>\n",
       "<p>17520 rows × 2 columns</p>\n",
       "</div>"
      ],
      "text/plain": [
       "       row_id  num_sold\n",
       "0       70128     513.0\n",
       "1       70129     411.0\n",
       "2       70130     343.0\n",
       "3       70131     542.0\n",
       "4       70132     178.0\n",
       "...       ...       ...\n",
       "17515   87643     657.0\n",
       "17516   87644     208.0\n",
       "17517   87645     170.0\n",
       "17518   87646     142.0\n",
       "17519   87647     228.0\n",
       "\n",
       "[17520 rows x 2 columns]"
      ]
     },
     "execution_count": 15,
     "metadata": {},
     "output_type": "execute_result"
    }
   ],
   "source": [
    "submission = pd.read_csv('../input/tabular-playground-series-sep-2022/sample_submission.csv')\n",
    "submission['num_sold'] = final_df['num_sold']\n",
    "submission.to_csv('submission.csv', index = False)\n",
    "submission"
   ]
  },
  {
   "cell_type": "code",
   "execution_count": 16,
   "id": "f42e7f39",
   "metadata": {
    "execution": {
     "iopub.execute_input": "2022-09-30T16:57:22.674641Z",
     "iopub.status.busy": "2022-09-30T16:57:22.674225Z",
     "iopub.status.idle": "2022-09-30T16:57:22.680973Z",
     "shell.execute_reply": "2022-09-30T16:57:22.679588Z"
    },
    "papermill": {
     "duration": 0.015657,
     "end_time": "2022-09-30T16:57:22.683780",
     "exception": false,
     "start_time": "2022-09-30T16:57:22.668123",
     "status": "completed"
    },
    "tags": []
   },
   "outputs": [],
   "source": [
    "# def smape_loss(y_true, y_pred):\n",
    "#     '''SMAPE Loss'''\n",
    "#     return np.abs(y_true - y_pred) / (y_true + np.abs(y_pred)) * 200\n",
    "\n",
    "# np.mean(smape_loss(best.num_sold, final_df.num_sold))"
   ]
  },
  {
   "cell_type": "code",
   "execution_count": 17,
   "id": "65a35469",
   "metadata": {
    "execution": {
     "iopub.execute_input": "2022-09-30T16:57:22.694675Z",
     "iopub.status.busy": "2022-09-30T16:57:22.694261Z",
     "iopub.status.idle": "2022-09-30T16:57:22.699918Z",
     "shell.execute_reply": "2022-09-30T16:57:22.698563Z"
    },
    "papermill": {
     "duration": 0.01434,
     "end_time": "2022-09-30T16:57:22.702899",
     "exception": false,
     "start_time": "2022-09-30T16:57:22.688559",
     "status": "completed"
    },
    "tags": []
   },
   "outputs": [],
   "source": [
    "# best = submission"
   ]
  }
 ],
 "metadata": {
  "kernelspec": {
   "display_name": "Python 3",
   "language": "python",
   "name": "python3"
  },
  "language_info": {
   "codemirror_mode": {
    "name": "ipython",
    "version": 3
   },
   "file_extension": ".py",
   "mimetype": "text/x-python",
   "name": "python",
   "nbconvert_exporter": "python",
   "pygments_lexer": "ipython3",
   "version": "3.7.12"
  },
  "papermill": {
   "default_parameters": {},
   "duration": 18.987765,
   "end_time": "2022-09-30T16:57:23.629514",
   "environment_variables": {},
   "exception": null,
   "input_path": "__notebook__.ipynb",
   "output_path": "__notebook__.ipynb",
   "parameters": {},
   "start_time": "2022-09-30T16:57:04.641749",
   "version": "2.3.4"
  }
 },
 "nbformat": 4,
 "nbformat_minor": 5
}
